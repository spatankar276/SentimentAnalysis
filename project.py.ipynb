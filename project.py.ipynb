{
 "cells": [
  {
   "cell_type": "markdown",
   "metadata": {},
   "source": [
    "Notes:\n",
    "\n",
    "Many Prices Are Missing\n",
    "\n",
    "Distribution of difference in days with no prices:\n",
    "1\t2\t3\t4\t5\n",
    "0\t281\t93\t94\t0\n",
    "\n",
    "S&P 500 Price = Closing Price"
   ]
  },
  {
   "cell_type": "code",
   "execution_count": 1,
   "metadata": {},
   "outputs": [],
   "source": [
    "import pandas_datareader as web\n",
    "from datetime import datetime\n",
    "import urllib.request, urllib.parse, urllib.error\n",
    "import json\n",
    "import requests\n",
    "import time\n",
    "import pandas as pd \n",
    "import numpy as np\n",
    "import tzlocal\n",
    "import matplotlib.pyplot as plt\n",
    "import seaborn; seaborn.set()\n",
    "\n",
    "\n",
    "\n",
    "\n"
   ]
  },
  {
   "cell_type": "markdown",
   "metadata": {},
   "source": [
    "Data Collection"
   ]
  },
  {
   "cell_type": "code",
   "execution_count": 2,
   "metadata": {},
   "outputs": [],
   "source": [
    "# Date range for Market Data\n",
    "\n",
    "now = datetime.now()\n",
    "start = datetime(2012, 9, 8)\n",
    "end = datetime(2017, 12, 20)\n",
    "\n",
    "# S&P 500 Data\n",
    "sp = web.DataReader('SPX', 'morningstar', start, end)\n",
    "\n",
    "sp = pd.DataFrame(sp)\n",
    "sp = sp.reset_index()\n",
    "\n",
    "sp = sp.set_index('Date')\n",
    "\n",
    "sp.columns\n",
    "sp = sp.drop(['Symbol','Open'], axis = 1)\n",
    "\n",
    "sp = sp.rename(columns = {'Close' : 'S&P 500 Price', 'High' : 'S&P 500 High', \n",
    "                          'Low': 'S&P 500 Low', 'Volume' : 'S&P 500 Volume'})"
   ]
  },
  {
   "cell_type": "code",
   "execution_count": null,
   "metadata": {},
   "outputs": [],
   "source": []
  },
  {
   "cell_type": "code",
   "execution_count": null,
   "metadata": {},
   "outputs": [],
   "source": []
  },
  {
   "cell_type": "code",
   "execution_count": 3,
   "metadata": {},
   "outputs": [],
   "source": [
    "# Retrieve BTC Data\n",
    "\n",
    "urla = 'https://min-api.cryptocompare.com/data/histoday?fsym=BTC&tsym=USD&limit=999&aggregate=3&e=CCCAGG'\n",
    "uha = urllib.request.urlopen(urla)\n",
    "dataa = uha.read().decode('utf8', 'ignore')\n",
    "jsa = json.loads(dataa)\n",
    "\n",
    "t = []\n",
    "closeBTC = []\n",
    "volumefrom = []\n",
    "volumeto = []\n",
    "\n",
    "# parse through json data\n",
    "\n",
    "for a in jsa['Data']:\n",
    "\tt.append(a['time'])\n",
    "\n",
    "for b in jsa['Data']:\n",
    "\tcloseBTC.append(b['close'])\n",
    "\n",
    "for f in jsa['Data']:\n",
    "\tvolumefrom.append(f['volumefrom'])\n",
    "\n",
    "for g in jsa['Data']:\n",
    "\tvolumeto.append(g['volumeto'])\n",
    "\n",
    "\n",
    "\n",
    "dataBTC = {'Time BTC': pd.Series(t),'BTC Price': pd.Series(closeBTC),'BTC Volume': pd.Series(volumefrom), 'BTC Volume in USD': pd.Series(volumeto)}\n",
    "dfBTC = pd.DataFrame(dataBTC)\n",
    "\n",
    "\n",
    "time.sleep(10)"
   ]
  },
  {
   "cell_type": "code",
   "execution_count": 4,
   "metadata": {},
   "outputs": [],
   "source": [
    "# Retrieve ETH Data\n",
    "\n",
    "urlb = 'https://min-api.cryptocompare.com/data/histoday?fsym=ETH&tsym=USD&limit=999&aggregate=3&e=CCCAGG'\n",
    "uhb = urllib.request.urlopen(urlb)\n",
    "datab = uhb.read().decode('utf8', 'ignore')\n",
    "jsb = json.loads(datab)\n",
    "\n",
    "tE = []\n",
    "closeETH = []\n",
    "volumefromE = []\n",
    "volumetoE = []\n",
    "\n",
    "# parse through json data\n",
    "\n",
    "\n",
    "for w in jsb['Data']:\n",
    "\tcloseETH.append(w['close'])\n",
    "    \n",
    "for z in jsa['Data']:\n",
    "\ttE.append(z['time'])\n",
    "\n",
    "for e in jsb['Data']:\n",
    "\tvolumefromE.append(e['volumefrom'])\n",
    "\n",
    "for r in jsb['Data']:\n",
    "\tvolumetoE.append(r['volumeto'])\n",
    "\n",
    "\n",
    "dataETH = {'Time ETH' : pd.Series(tE), 'ETH Price': pd.Series(closeETH),'ETH Volume': pd.Series(volumefromE), 'ETH Volume in USD': pd.Series(volumetoE)}\n",
    "dfETH = pd.DataFrame(dataETH)\n"
   ]
  },
  {
   "cell_type": "code",
   "execution_count": 5,
   "metadata": {},
   "outputs": [],
   "source": [
    "dfETH = dfETH.rename(columns = {'Time ETH' : 'Date'})\n",
    "dfBTC = dfBTC.rename(columns = {'Time BTC' : 'Date'})"
   ]
  },
  {
   "cell_type": "code",
   "execution_count": 6,
   "metadata": {},
   "outputs": [],
   "source": [
    "dfETH['Date'] = pd.to_datetime(dfETH['Date'] , unit = 's')\n",
    "dfBTC['Date'] = pd.to_datetime(dfBTC['Date'] , unit = 's')"
   ]
  },
  {
   "cell_type": "code",
   "execution_count": 7,
   "metadata": {},
   "outputs": [],
   "source": [
    "dfETH = dfETH.set_index('Date')\n",
    "dfBTC = dfBTC.set_index('Date')"
   ]
  },
  {
   "cell_type": "code",
   "execution_count": 8,
   "metadata": {},
   "outputs": [],
   "source": [
    "result = pd.concat([dfETH, dfBTC, sp], axis = 1)\n",
    "result.replace([\"NaN\", 'NaT'], np.nan, inplace = True)\n",
    "#result.dropna(how = 'all', inplace = True)"
   ]
  },
  {
   "cell_type": "code",
   "execution_count": 9,
   "metadata": {},
   "outputs": [],
   "source": [
    "result = result.dropna(how='all',axis=0)"
   ]
  },
  {
   "cell_type": "code",
   "execution_count": 10,
   "metadata": {},
   "outputs": [
    {
     "data": {
      "text/html": [
       "<div>\n",
       "<style scoped>\n",
       "    .dataframe tbody tr th:only-of-type {\n",
       "        vertical-align: middle;\n",
       "    }\n",
       "\n",
       "    .dataframe tbody tr th {\n",
       "        vertical-align: top;\n",
       "    }\n",
       "\n",
       "    .dataframe thead th {\n",
       "        text-align: right;\n",
       "    }\n",
       "</style>\n",
       "<table border=\"1\" class=\"dataframe\">\n",
       "  <thead>\n",
       "    <tr style=\"text-align: right;\">\n",
       "      <th></th>\n",
       "      <th>ETH Price</th>\n",
       "      <th>ETH Volume</th>\n",
       "      <th>ETH Volume in USD</th>\n",
       "      <th>BTC Price</th>\n",
       "      <th>BTC Volume</th>\n",
       "      <th>BTC Volume in USD</th>\n",
       "      <th>S&amp;P 500 Price</th>\n",
       "      <th>S&amp;P 500 High</th>\n",
       "      <th>S&amp;P 500 Low</th>\n",
       "      <th>S&amp;P 500 Volume</th>\n",
       "    </tr>\n",
       "    <tr>\n",
       "      <th>Date</th>\n",
       "      <th></th>\n",
       "      <th></th>\n",
       "      <th></th>\n",
       "      <th></th>\n",
       "      <th></th>\n",
       "      <th></th>\n",
       "      <th></th>\n",
       "      <th></th>\n",
       "      <th></th>\n",
       "      <th></th>\n",
       "    </tr>\n",
       "  </thead>\n",
       "  <tbody>\n",
       "    <tr>\n",
       "      <th>2012-09-14</th>\n",
       "      <td>0.0</td>\n",
       "      <td>0.0</td>\n",
       "      <td>0.0</td>\n",
       "      <td>11.87</td>\n",
       "      <td>89829.44</td>\n",
       "      <td>1051114.19</td>\n",
       "      <td>1465.7739</td>\n",
       "      <td>NaN</td>\n",
       "      <td>NaN</td>\n",
       "      <td>0.0</td>\n",
       "    </tr>\n",
       "    <tr>\n",
       "      <th>2012-09-17</th>\n",
       "      <td>0.0</td>\n",
       "      <td>0.0</td>\n",
       "      <td>0.0</td>\n",
       "      <td>12.57</td>\n",
       "      <td>109444.76</td>\n",
       "      <td>1330285.84</td>\n",
       "      <td>1461.1885</td>\n",
       "      <td>NaN</td>\n",
       "      <td>NaN</td>\n",
       "      <td>0.0</td>\n",
       "    </tr>\n",
       "    <tr>\n",
       "      <th>2012-09-20</th>\n",
       "      <td>0.0</td>\n",
       "      <td>0.0</td>\n",
       "      <td>0.0</td>\n",
       "      <td>12.24</td>\n",
       "      <td>83388.68</td>\n",
       "      <td>1029328.03</td>\n",
       "      <td>1460.2619</td>\n",
       "      <td>NaN</td>\n",
       "      <td>NaN</td>\n",
       "      <td>0.0</td>\n",
       "    </tr>\n",
       "    <tr>\n",
       "      <th>2012-09-26</th>\n",
       "      <td>0.0</td>\n",
       "      <td>0.0</td>\n",
       "      <td>0.0</td>\n",
       "      <td>12.39</td>\n",
       "      <td>69496.65</td>\n",
       "      <td>854904.81</td>\n",
       "      <td>1433.3159</td>\n",
       "      <td>NaN</td>\n",
       "      <td>NaN</td>\n",
       "      <td>0.0</td>\n",
       "    </tr>\n",
       "    <tr>\n",
       "      <th>2012-10-02</th>\n",
       "      <td>0.0</td>\n",
       "      <td>0.0</td>\n",
       "      <td>0.0</td>\n",
       "      <td>12.85</td>\n",
       "      <td>121733.57</td>\n",
       "      <td>1553834.75</td>\n",
       "      <td>1445.7543</td>\n",
       "      <td>NaN</td>\n",
       "      <td>NaN</td>\n",
       "      <td>0.0</td>\n",
       "    </tr>\n",
       "  </tbody>\n",
       "</table>\n",
       "</div>"
      ],
      "text/plain": [
       "            ETH Price  ETH Volume  ETH Volume in USD  BTC Price  BTC Volume  \\\n",
       "Date                                                                          \n",
       "2012-09-14        0.0         0.0                0.0      11.87    89829.44   \n",
       "2012-09-17        0.0         0.0                0.0      12.57   109444.76   \n",
       "2012-09-20        0.0         0.0                0.0      12.24    83388.68   \n",
       "2012-09-26        0.0         0.0                0.0      12.39    69496.65   \n",
       "2012-10-02        0.0         0.0                0.0      12.85   121733.57   \n",
       "\n",
       "            BTC Volume in USD  S&P 500 Price  S&P 500 High  S&P 500 Low  \\\n",
       "Date                                                                      \n",
       "2012-09-14         1051114.19      1465.7739           NaN          NaN   \n",
       "2012-09-17         1330285.84      1461.1885           NaN          NaN   \n",
       "2012-09-20         1029328.03      1460.2619           NaN          NaN   \n",
       "2012-09-26          854904.81      1433.3159           NaN          NaN   \n",
       "2012-10-02         1553834.75      1445.7543           NaN          NaN   \n",
       "\n",
       "            S&P 500 Volume  \n",
       "Date                        \n",
       "2012-09-14             0.0  \n",
       "2012-09-17             0.0  \n",
       "2012-09-20             0.0  \n",
       "2012-09-26             0.0  \n",
       "2012-10-02             0.0  "
      ]
     },
     "execution_count": 10,
     "metadata": {},
     "output_type": "execute_result"
    }
   ],
   "source": [
    "result = result.dropna(thresh = 8)\n",
    "result.head()"
   ]
  },
  {
   "cell_type": "code",
   "execution_count": null,
   "metadata": {},
   "outputs": [],
   "source": []
  },
  {
   "cell_type": "code",
   "execution_count": 11,
   "metadata": {},
   "outputs": [
    {
     "name": "stdout",
     "output_type": "stream",
     "text": [
      "SP         | start date: 2012-09-10 end date: 2017-12-18\n",
      "dfETH      | start date: 2012-09-14 end date: 2018-01-16\n",
      "dfBTC      | start date: 2012-09-29 end date: 2017-12-20\n",
      "Plot index | start date: 2012-09-29 end date: 2017-12-18\n"
     ]
    }
   ],
   "source": [
    "mindate = max(sp.idxmin().min().date(), dfBTC.idxmin().min().date(), dfETH.idxmin().min().date())\n",
    "maxdate = min(sp.idxmax().max().date(), dfBTC.idxmax().max().date(), dfETH.idxmax().max().date())\n",
    "\n",
    "\n",
    "print(\"SP         | start date: {} end date: {}\".format(sp.idxmin().min().date(), sp.idxmax().max().date()))\n",
    "print(\"dfETH      | start date: {} end date: {}\".format(dfETH.idxmin().min().date(), dfETH.idxmax().max().date()))\n",
    "print(\"dfBTC      | start date: {} end date: {}\".format(dfBTC.idxmin().min().date(), dfBTC.idxmax().max().date()))\n",
    "print(\"Plot index | start date: {} end date: {}\".format(mindate, maxdate))"
   ]
  },
  {
   "cell_type": "code",
   "execution_count": null,
   "metadata": {},
   "outputs": [],
   "source": []
  },
  {
   "cell_type": "code",
   "execution_count": 12,
   "metadata": {},
   "outputs": [],
   "source": [
    "pricegraph = result[['ETH Price','BTC Price','S&P 500 Price']].copy()"
   ]
  },
  {
   "cell_type": "code",
   "execution_count": 13,
   "metadata": {},
   "outputs": [],
   "source": [
    "\n",
    "price_return = pricegraph.apply(lambda x: x / x[0])\n"
   ]
  },
  {
   "cell_type": "markdown",
   "metadata": {},
   "source": [
    "Current Data Frames"
   ]
  },
  {
   "cell_type": "code",
   "execution_count": 14,
   "metadata": {
    "scrolled": true
   },
   "outputs": [
    {
     "name": "stdout",
     "output_type": "stream",
     "text": [
      "Result: ['ETH Price', 'ETH Volume', 'ETH Volume in USD', 'BTC Price', 'BTC Volume', 'BTC Volume in USD', 'S&P 500 Price', 'S&P 500 High', 'S&P 500 Low', 'S&P 500 Volume']\n",
      "Price: ['ETH Price', 'BTC Price', 'S&P 500 Price']\n"
     ]
    }
   ],
   "source": [
    "colnamesresult = list(result.columns)\n",
    "print('Result: {}'.format(colnamesresult))\n",
    "colnamesprice = list(pricegraph.columns)\n",
    "print('Price: {}'.format(colnamesprice))\n"
   ]
  },
  {
   "cell_type": "code",
   "execution_count": null,
   "metadata": {},
   "outputs": [],
   "source": []
  },
  {
   "cell_type": "code",
   "execution_count": null,
   "metadata": {},
   "outputs": [],
   "source": []
  },
  {
   "cell_type": "code",
   "execution_count": null,
   "metadata": {},
   "outputs": [],
   "source": []
  },
  {
   "cell_type": "code",
   "execution_count": null,
   "metadata": {},
   "outputs": [],
   "source": []
  },
  {
   "cell_type": "markdown",
   "metadata": {},
   "source": [
    "Visualization"
   ]
  },
  {
   "cell_type": "code",
   "execution_count": 15,
   "metadata": {},
   "outputs": [],
   "source": [
    "#pricegraph.plot.area(figsize=(20,10), xlim = [mindate,maxdate])"
   ]
  },
  {
   "cell_type": "code",
   "execution_count": 16,
   "metadata": {},
   "outputs": [],
   "source": [
    "#pricegraph.plot(figsize=(20,20), xlim = [mindate,maxdate])"
   ]
  },
  {
   "cell_type": "code",
   "execution_count": 17,
   "metadata": {},
   "outputs": [],
   "source": [
    "window_count = len(result.index)\n",
    "\n",
    "covs = result[['S&P 500 Price']].rolling(window = window_count ).cov(result[['BTC Price']], pairwise=True)\n",
    "correls = result[['S&P 500 Price','ETH Price', 'BTC Price']].rolling(window= window_count).corr()"
   ]
  },
  {
   "cell_type": "code",
   "execution_count": 18,
   "metadata": {},
   "outputs": [
    {
     "data": {
      "text/plain": [
       "<matplotlib.axes._subplots.AxesSubplot at 0x1a12a29400>"
      ]
     },
     "execution_count": 18,
     "metadata": {},
     "output_type": "execute_result"
    },
    {
     "data": {
      "image/png": "[encoded data removed]",
      "text/plain": [
       "<matplotlib.figure.Figure at 0x1a0d016780>"
      ]
     },
     "metadata": {},
     "output_type": "display_data"
    }
   ],
   "source": [
    "covs.plot()"
   ]
  },
  {
   "cell_type": "code",
   "execution_count": 1,
   "metadata": {},
   "outputs": [
    {
     "ename": "NameError",
     "evalue": "name 'correls' is not defined",
     "output_type": "error",
     "traceback": [
      "\u001b[0;31m---------------------------------------------------------------------------\u001b[0m",
      "\u001b[0;31mNameError\u001b[0m                                 Traceback (most recent call last)",
      "\u001b[0;32m<ipython-input-1-65d15dd86f56>\u001b[0m in \u001b[0;36m<module>\u001b[0;34m()\u001b[0m\n\u001b[0;32m----> 1\u001b[0;31m \u001b[0mcorrels\u001b[0m\u001b[0;34m.\u001b[0m\u001b[0mplot\u001b[0m\u001b[0;34m(\u001b[0m\u001b[0mylim\u001b[0m \u001b[0;34m=\u001b[0m \u001b[0;34m[\u001b[0m\u001b[0;34m-\u001b[0m\u001b[0;36m1\u001b[0m\u001b[0;34m,\u001b[0m\u001b[0;36m1\u001b[0m\u001b[0;34m]\u001b[0m\u001b[0;34m)\u001b[0m\u001b[0;34m\u001b[0m\u001b[0m\n\u001b[0m",
      "\u001b[0;31mNameError\u001b[0m: name 'correls' is not defined"
     ]
    }
   ],
   "source": [
    "correls.plot(ylim = [-1,1])"
   ]
  },
  {
   "cell_type": "code",
   "execution_count": null,
   "metadata": {},
   "outputs": [],
   "source": []
  },
  {
   "cell_type": "code",
   "execution_count": null,
   "metadata": {},
   "outputs": [],
   "source": []
  }
 ],
 "metadata": {
  "kernelspec": {
   "display_name": "Python 3",
   "language": "python",
   "name": "python3"
  },
  "language_info": {
   "codemirror_mode": {
    "name": "ipython",
    "version": 3
   },
   "file_extension": ".py",
   "mimetype": "text/x-python",
   "name": "python",
   "nbconvert_exporter": "python",
   "pygments_lexer": "ipython3",
   "version": "3.6.4"
  }
 },
 "nbformat": 4,
 "nbformat_minor": 2
}
